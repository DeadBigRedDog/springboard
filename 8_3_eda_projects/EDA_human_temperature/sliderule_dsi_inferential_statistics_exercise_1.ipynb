{
 "cells": [
  {
   "cell_type": "markdown",
   "metadata": {},
   "source": [
    "# What is the True Normal Human Body Temperature? \n",
    "\n",
    "#### Background\n",
    "\n",
    "The mean normal body temperature was held to be 37$^{\\circ}$C or 98.6$^{\\circ}$F for more than 120 years since it was first conceptualized and reported by Carl Wunderlich in a famous 1868 book. But, is this value statistically correct?"
   ]
  },
  {
   "cell_type": "markdown",
   "metadata": {},
   "source": [
    "<h3>Exercises</h3>\n",
    "\n",
    "<p>In this exercise, you will analyze a dataset of human body temperatures and employ the concepts of hypothesis testing, confidence intervals, and statistical significance.</p>\n",
    "\n",
    "<p>Answer the following questions <b>in this notebook below and submit to your Github account</b>.</p> \n",
    "\n",
    "<ol>\n",
    "<li>  Is the distribution of body temperatures normal? \n",
    "    <ul>\n",
    "    <li> Although this is not a requirement for the Central Limit Theorem to hold (read the introduction on Wikipedia's page about the CLT carefully: https://en.wikipedia.org/wiki/Central_limit_theorem), it gives us some peace of mind that the population may also be normally distributed if we assume that this sample is representative of the population.\n",
    "    <li> Think about the way you're going to check for the normality of the distribution. Graphical methods are usually used first, but there are also other ways: https://en.wikipedia.org/wiki/Normality_test\n",
    "    </ul>\n",
    "<li>  Is the sample size large? Are the observations independent?\n",
    "    <ul>\n",
    "    <li> Remember that this is a condition for the Central Limit Theorem, and hence the statistical tests we are using, to apply.\n",
    "    </ul>\n",
    "<li>  Is the true population mean really 98.6 degrees F?\n",
    "    <ul>\n",
    "    <li> First, try a bootstrap hypothesis test.\n",
    "    <li> Now, let's try frequentist statistical testing. Would you use a one-sample or two-sample test? Why?\n",
    "    <li> In this situation, is it appropriate to use the $t$ or $z$ statistic? \n",
    "    <li> Now try using the other test. How is the result be different? Why?\n",
    "    </ul>\n",
    "<li>  Draw a small sample of size 10 from the data and repeat both frequentist tests. \n",
    "    <ul>\n",
    "    <li> Which one is the correct one to use? \n",
    "    <li> What do you notice? What does this tell you about the difference in application of the $t$ and $z$ statistic?\n",
    "    </ul>\n",
    "<li>  At what temperature should we consider someone's temperature to be \"abnormal\"?\n",
    "    <ul>\n",
    "    <li> As in the previous example, try calculating everything using the boostrap approach, as well as the frequentist approach.\n",
    "    <li> Start by computing the margin of error and confidence interval. When calculating the confidence interval, keep in mind that you should use the appropriate formula for one draw, and not N draws.\n",
    "    </ul>\n",
    "<li>  Is there a significant difference between males and females in normal temperature?\n",
    "    <ul>\n",
    "    <li> What testing approach did you use and why?\n",
    "    <li> Write a story with your conclusion in the context of the original problem.\n",
    "    </ul>\n",
    "</ol>\n",
    "\n",
    "You can include written notes in notebook cells using Markdown: \n",
    "   - In the control panel at the top, choose Cell > Cell Type > Markdown\n",
    "   - Markdown syntax: http://nestacms.com/docs/creating-content/markdown-cheat-sheet\n",
    "\n",
    "#### Resources\n",
    "\n",
    "+ Information and data sources: http://www.amstat.org/publications/jse/datasets/normtemp.txt, http://www.amstat.org/publications/jse/jse_data_archive.htm\n",
    "+ Markdown syntax: http://nestacms.com/docs/creating-content/markdown-cheat-sheet\n",
    "\n",
    "****"
   ]
  },
  {
   "cell_type": "code",
   "execution_count": 68,
   "metadata": {},
   "outputs": [],
   "source": [
    "#various imports\n",
    "import pandas as pd\n",
    "import matplotlib.pyplot as plt\n",
    "import matplotlib.mlab as mlab\n",
    "import requests\n",
    "import numpy as np\n",
    "import h5py\n",
    "import seaborn as sns #requires 0.9.0\n",
    "import researchpy as rp\n",
    "from scipy import stats\n",
    "from sklearn import datasets\n",
    "\n",
    "df = pd.read_csv('data/human_body_temperature.csv')\n",
    "\n",
    "#lets set the style\n",
    "sns.set()"
   ]
  },
  {
   "cell_type": "code",
   "execution_count": 64,
   "metadata": {},
   "outputs": [],
   "source": [
    "#needed functions\n",
    "def bootstrap_replicate_1d(data, func):\n",
    "    \"\"\"Replicate a 1D set of data with replacement and return the data based on the function passed.\"\"\"\n",
    "    return func(np.random.choice(data, size=len(data)))\n",
    "\n",
    "def draw_bs_reps(data, func, size=1):\n",
    "    \"\"\"Create bootstrap replicates.\"\"\"\n",
    "\n",
    "    # Initialize array of replicates: bs_replicates\n",
    "    bs_replicates = np.empty(size)\n",
    "\n",
    "    # Generate replicates\n",
    "    for i in range(size):\n",
    "        bs_replicates[i] = bootstrap_replicate_1d(data,func)\n",
    "\n",
    "    return bs_replicates"
   ]
  },
  {
   "cell_type": "code",
   "execution_count": 20,
   "metadata": {},
   "outputs": [
    {
     "name": "stdout",
     "output_type": "stream",
     "text": [
      "       temperature  heart_rate\n",
      "count   130.000000  130.000000\n",
      "mean     98.249231   73.761538\n",
      "std       0.733183    7.062077\n",
      "min      96.300000   57.000000\n",
      "25%      97.800000   69.000000\n",
      "50%      98.300000   74.000000\n",
      "75%      98.700000   79.000000\n",
      "max     100.800000   89.000000\n"
     ]
    },
    {
     "data": {
      "text/html": [
       "<div>\n",
       "<style scoped>\n",
       "    .dataframe tbody tr th:only-of-type {\n",
       "        vertical-align: middle;\n",
       "    }\n",
       "\n",
       "    .dataframe tbody tr th {\n",
       "        vertical-align: top;\n",
       "    }\n",
       "\n",
       "    .dataframe thead th {\n",
       "        text-align: right;\n",
       "    }\n",
       "</style>\n",
       "<table border=\"1\" class=\"dataframe\">\n",
       "  <thead>\n",
       "    <tr style=\"text-align: right;\">\n",
       "      <th></th>\n",
       "      <th>temperature</th>\n",
       "      <th>gender</th>\n",
       "      <th>heart_rate</th>\n",
       "    </tr>\n",
       "  </thead>\n",
       "  <tbody>\n",
       "    <tr>\n",
       "      <th>0</th>\n",
       "      <td>99.3</td>\n",
       "      <td>F</td>\n",
       "      <td>68.0</td>\n",
       "    </tr>\n",
       "    <tr>\n",
       "      <th>1</th>\n",
       "      <td>98.4</td>\n",
       "      <td>F</td>\n",
       "      <td>81.0</td>\n",
       "    </tr>\n",
       "    <tr>\n",
       "      <th>2</th>\n",
       "      <td>97.8</td>\n",
       "      <td>M</td>\n",
       "      <td>73.0</td>\n",
       "    </tr>\n",
       "    <tr>\n",
       "      <th>3</th>\n",
       "      <td>99.2</td>\n",
       "      <td>F</td>\n",
       "      <td>66.0</td>\n",
       "    </tr>\n",
       "    <tr>\n",
       "      <th>4</th>\n",
       "      <td>98.0</td>\n",
       "      <td>F</td>\n",
       "      <td>73.0</td>\n",
       "    </tr>\n",
       "  </tbody>\n",
       "</table>\n",
       "</div>"
      ],
      "text/plain": [
       "   temperature gender  heart_rate\n",
       "0         99.3      F        68.0\n",
       "1         98.4      F        81.0\n",
       "2         97.8      M        73.0\n",
       "3         99.2      F        66.0\n",
       "4         98.0      F        73.0"
      ]
     },
     "execution_count": 20,
     "metadata": {},
     "output_type": "execute_result"
    }
   ],
   "source": [
    "print(df.describe())\n",
    "\n",
    "df.head()"
   ]
  },
  {
   "cell_type": "markdown",
   "metadata": {},
   "source": [
    "<h2>Answers</h2>\n",
    "<p>I'll formulate my answers in the following lines to determine the correct answer</p>"
   ]
  },
  {
   "cell_type": "markdown",
   "metadata": {},
   "source": [
    "<h3>1.  Is the distribution of body temperatures normal?</h3>\n",
    "<p>We will start with a graphical representation to see if they appear normal.</p>"
   ]
  },
  {
   "cell_type": "code",
   "execution_count": 21,
   "metadata": {},
   "outputs": [
    {
     "data": {
      "image/png": "[encoded data removed]",
      "text/plain": [
       "<Figure size 432x288 with 1 Axes>"
      ]
     },
     "metadata": {},
     "output_type": "display_data"
    }
   ],
   "source": [
    "_ = plt.hist(df.temperature,density=True,histtype='step',bins=10)\n",
    "_ = plt.hist(df.temperature,density=True,bins=25,alpha=0.5)\n",
    "_ = plt.xlabel(\"Body Temperature\")\n",
    "_ = plt.ylabel(\"Frequency\")\n",
    "\n",
    "plt.show()"
   ]
  },
  {
   "cell_type": "markdown",
   "metadata": {},
   "source": [
    "<p>Based on what we can see, the data appears to be normal with a slight negative Skew (tail to the left).</p>"
   ]
  },
  {
   "cell_type": "markdown",
   "metadata": {},
   "source": [
    "<h3>2.  Is the sample size large? Are the observations independent?</h3>\n",
    "<p>Remember that this is a condition for the Central Limit Theorem, and hence the statistical tests we are using, to apply.</p>"
   ]
  },
  {
   "cell_type": "markdown",
   "metadata": {},
   "source": [
    "<p>Our sample is large if n >= 30, in this case we have 130 samples which means it is large</p>\n",
    "<p>Since our observation is 10% or less of the entire population of humans we can state that the observations are independent.</p>"
   ]
  },
  {
   "cell_type": "markdown",
   "metadata": {},
   "source": [
    "<h3>3.  Is the true population mean really 98.6 degrees F?</h3>\n",
    "    <ul>\n",
    "    <li> First, try a bootstrap hypothesis test.\n",
    "    <li> Now, let's try frequentist statistical testing. Would you use a one-sample or two-sample test? Why?\n",
    "    <li> In this situation, is it appropriate to use the $t$ or $z$ statistic? \n",
    "    <li> Now try using the other test. How is the result be different? Why?\n",
    "    </ul>"
   ]
  },
  {
   "cell_type": "code",
   "execution_count": 52,
   "metadata": {},
   "outputs": [
    {
     "name": "stdout",
     "output_type": "stream",
     "text": [
      "p-value::  1.0\n",
      "This suggests that we should accept the null hypothesis that the real mean is 98.6 even though our sample distribution mean is 98.2\n"
     ]
    }
   ],
   "source": [
    "#in this we will test the hypothesis that 98.6 is the real temperature mean\n",
    "# Our significance value is 5%\n",
    "\n",
    "#Lets translate the array around the proposed mean of 98.6\n",
    "translated_temperature_o = df.temperature - np.mean(df.temperature) + 98.6\n",
    "\n",
    "#now take a bootstrap replicates of the sampling data\n",
    "bs_replicates = draw_bs_reps(translated_temperature_o,np.mean,10000)\n",
    "\n",
    "# Compute the fraction of replicates that are not equal to our original sample\n",
    "p = np.sum(np.round(bs_replicates,1) != np.round(np.mean(df.temperature),1)) / 10000\n",
    "\n",
    "# p-value\n",
    "print ('p-value:: ', p)\n",
    "print('This suggests that we cannot reject the null hypothesis that the real mean is 98.6 even though our sample distribution mean is 98.2')"
   ]
  },
  {
   "cell_type": "markdown",
   "metadata": {},
   "source": [
    "<p>Since we are comparing a sample against a known value, this is considered a one-sample test.  A two-sample test is when we would compare 2 different samples against each other.</p>\n",
    "<p>We use the z* when we know the population standard deviation and the t* when standard deviation is not known.</p>\n"
   ]
  },
  {
   "cell_type": "code",
   "execution_count": 72,
   "metadata": {},
   "outputs": [
    {
     "name": "stdout",
     "output_type": "stream",
     "text": [
      "t score::  -5.475925202078116\n",
      "p-value::  0.9999998905626769\n"
     ]
    }
   ],
   "source": [
    "# Now we will compute the t score and pval from the t score.\n",
    "# We don't know the population standard deviation so we have to use the sample\n",
    "# Our Null Hypothesis is 98.6 is the real mean value\n",
    "# Our altnernate is that the mean is not 98.6\n",
    "\n",
    "h0 = 98.6\n",
    "mu = np.mean(df.temperature)\n",
    "std = np.std(df.temperature)\n",
    "n = len(df.temperature)\n",
    "deg = n - 1\n",
    "sig = 0.05\n",
    "\n",
    "# Calculate the t score\n",
    "t = (mu - h0)/(std/(np.sqrt(n)))\n",
    "\n",
    "print('t score:: ',t)\n",
    "\n",
    "# Calculate the p-value\n",
    "p_value = stats.t.sf(t, deg)\n",
    "\n",
    "print('p-value:: ',p_value)"
   ]
  },
  {
   "cell_type": "markdown",
   "metadata": {},
   "source": [
    "<p>When we conduct a p-score against just our sample it suggests that we should accept our null hypothesis similiar to our bootstrap test.</p>"
   ]
  },
  {
   "cell_type": "code",
   "execution_count": 77,
   "metadata": {},
   "outputs": [
    {
     "name": "stdout",
     "output_type": "stream",
     "text": [
      "z score::  -6.4506202710320855\n",
      "p-value::  1.1139328957906942e-10\n"
     ]
    }
   ],
   "source": [
    "# We will try to do a z score using an assumed population standard deviation of 0.62\n",
    "\n",
    "h0 = 98.6\n",
    "mu = np.mean(df.temperature)\n",
    "std = 0.62\n",
    "n = len(df.temperature)\n",
    "deg = n - 1\n",
    "sig = 0.05\n",
    "\n",
    "# Calculate the z score\n",
    "z = (mu - h0)/(std/(np.sqrt(n)))\n",
    "\n",
    "print ('z score:: ',z)\n",
    "\n",
    "# Calculate the p-value\n",
    "p_value = stats.norm.sf(abs(z))*2\n",
    "\n",
    "print('p-value:: ',p_value)"
   ]
  },
  {
   "cell_type": "markdown",
   "metadata": {},
   "source": [
    "<p>Based on this p-value, it suggests we should reject our null hypothesis.  There is enough evidence to conclude that the difference is statistically significant.</p>"
   ]
  },
  {
   "cell_type": "markdown",
   "metadata": {},
   "source": [
    "<h3>4.  Draw a small sample of size 10 from the data and repeat both frequentist tests.</h3>\n",
    "<ul><li>Which one is the correct one to use?</li>\n",
    "<li>What do you notice? What does this tell you about the difference in application of the  𝑡  and  𝑧  statistic?</li>\n",
    "    </ul>"
   ]
  },
  {
   "cell_type": "code",
   "execution_count": 89,
   "metadata": {},
   "outputs": [
    {
     "name": "stdout",
     "output_type": "stream",
     "text": [
      "t score::  -3.39036021704816\n",
      "p-value::  0.9960027317925774\n",
      "z score::  -3.7743314008460316\n",
      "p-value::  0.00016043736823582083\n"
     ]
    }
   ],
   "source": [
    "# Grap a sample size of 10\n",
    "df_sample_temp = np.random.choice(df.temperature,10)\n",
    "\n",
    "# t score\n",
    "h0 = 98.6\n",
    "mu = np.mean(df_sample_temp)\n",
    "std = np.std(df_sample_temp)\n",
    "n = len(df_sample_temp)\n",
    "deg = n - 1\n",
    "sig = 0.05\n",
    "\n",
    "# Calculate the t score\n",
    "t = (mu - h0)/(std/(np.sqrt(n)))\n",
    "\n",
    "print('t score:: ',t)\n",
    "\n",
    "# Calculate the p-value\n",
    "p_value = stats.t.sf(t, deg)\n",
    "\n",
    "print('p-value:: ',p_value)\n",
    "\n",
    "# z score\n",
    "h0 = 98.6\n",
    "mu = np.mean(df_sample_temp)\n",
    "std = 0.62\n",
    "n = len(df_sample_temp)\n",
    "deg = n - 1\n",
    "sig = 0.05\n",
    "\n",
    "# Calculate the z score\n",
    "z = (mu - h0)/(std/(np.sqrt(n)))\n",
    "\n",
    "print ('z score:: ',z)\n",
    "\n",
    "# Calculate the p-value\n",
    "p_value = stats.norm.sf(abs(z))*2\n",
    "\n",
    "print('p-value:: ',p_value)\n"
   ]
  },
  {
   "cell_type": "markdown",
   "metadata": {},
   "source": [
    "<p>After running the above code numerous times, I feel that the t-score is the correct choice.  As I mentioned before, I am assuming a value for the entire population standard deviation which we do not know.</p>"
   ]
  },
  {
   "cell_type": "markdown",
   "metadata": {},
   "source": [
    "<h3>5.  At what temperature should we consider someone's temperature to be \"abnormal\"?</h3>\n",
    "<ul><li>As in the previous example, try calculating everything using the boostrap approach, as well as the frequentist approach.</li>\n",
    "<li>Start by computing the margin of error and confidence interval. When calculating the confidence interval, keep in mind that you should use the appropriate formula for one draw, and not N draws.</li></ul>"
   ]
  },
  {
   "cell_type": "code",
   "execution_count": 95,
   "metadata": {},
   "outputs": [
    {
     "name": "stdout",
     "output_type": "stream",
     "text": [
      "Confidence Interval based on 99%::  (98.08110824239759, 98.41735329606396)\n",
      "Confidence Interval based on 99%::  98.08110824239759 98.41735329606396\n"
     ]
    }
   ],
   "source": [
    "confidence = 0.99\n",
    "n = len(df.temperature)\n",
    "mu = np.mean(df.temperature)\n",
    "std_err = stats.sem(df.temperature)\n",
    "\n",
    "# Using a method from stats\n",
    "interval = stats.t.interval(0.99, n-1, loc=mu, scale=std_err)\n",
    "print('Confidence Interval based on 99%:: ',interval)\n",
    "\n",
    "# Using a formula and ppf\n",
    "h = std_err * stats.t.ppf((1 + confidence) / 2, n - 1)\n",
    "start = mu - h\n",
    "end = mu + h\n",
    "print('Confidence Interval based on 99%:: ',start,end)"
   ]
  },
  {
   "cell_type": "markdown",
   "metadata": {},
   "source": [
    "<p>According to the sample, an abnormal temperature at 99% confidence level would be less than 98.08 or greater than 98.41 degrees</p>"
   ]
  },
  {
   "cell_type": "markdown",
   "metadata": {},
   "source": [
    "<h3>6.  Is there a significant difference between males and females in normal temperature?</h3>\n",
    "<ul><li>What testing approach did you use and why?</li>\n",
    "    <li>Write a story with your conclusion in the context of the original problem.</li></ul>"
   ]
  },
  {
   "cell_type": "markdown",
   "metadata": {},
   "source": [
    "<p>We are comparing 2 different samples which means this is a 2 sample hypothesis test</p>\n",
    "<p>We have to first split the data into male and female and then do the analysis.</p>\n",
    "<p><strong>H<sub>0</sub></strong> Male.Temp == Female.Temp</p>\n",
    "<p><strong>H<sub>a</sub></strong> Male.Temp != Female.Temp</p>"
   ]
  },
  {
   "cell_type": "code",
   "execution_count": 99,
   "metadata": {},
   "outputs": [
    {
     "name": "stdout",
     "output_type": "stream",
     "text": [
      "       temperature  heart_rate\n",
      "count    65.000000   65.000000\n",
      "mean     98.104615   73.369231\n",
      "std       0.698756    5.875184\n",
      "min      96.300000   58.000000\n",
      "25%      97.600000   70.000000\n",
      "50%      98.100000   73.000000\n",
      "75%      98.600000   78.000000\n",
      "max      99.500000   86.000000\n",
      "       temperature  heart_rate\n",
      "count    65.000000   65.000000\n",
      "mean     98.393846   74.153846\n",
      "std       0.743488    8.105227\n",
      "min      96.400000   57.000000\n",
      "25%      98.000000   68.000000\n",
      "50%      98.400000   76.000000\n",
      "75%      98.800000   80.000000\n",
      "max     100.800000   89.000000\n",
      "Male Variance::  temperature     0.480748\n",
      "heart_rate     33.986746\n",
      "dtype: float64\n",
      "Female Variance::  temperature     0.544270\n",
      "heart_rate     64.684024\n",
      "dtype: float64\n"
     ]
    }
   ],
   "source": [
    "sig = 0.05\n",
    "\n",
    "# Separate the datasets\n",
    "male_df = df[df.gender == 'M']\n",
    "female_df = df[df.gender == 'F']\n",
    "\n",
    "# Calculate variance\n",
    "male_var = np.var(male_df)\n",
    "female_var = np.var(female_df)\n",
    "\n",
    "# Now get statistics to see if they are the same\n",
    "print(male_df.describe())\n",
    "print(female_df.describe())\n",
    "\n",
    "print('Male Variance:: ',male_var)\n",
    "print('Female Variance:: ',female_var)"
   ]
  },
  {
   "cell_type": "markdown",
   "metadata": {},
   "source": [
    "<p>The count is the same; however, the mean and std are different.</p>"
   ]
  },
  {
   "cell_type": "code",
   "execution_count": 104,
   "metadata": {},
   "outputs": [
    {
     "name": "stdout",
     "output_type": "stream",
     "text": [
      "Two Sample Test when Variance Equal::  Ttest_indResult(statistic=-2.2854345381656103, pvalue=0.02393188312239561)\n",
      "Two Sample Test when Variance Not Equal::  Ttest_indResult(statistic=-2.285434538165611, pvalue=0.023938264182934196)\n",
      "Is the p-value less than the 5% significance?  True\n"
     ]
    }
   ],
   "source": [
    "# The Two Sample T Test.\n",
    "\n",
    "# The test measures whether the average (expected) value differs significantly across samples. \n",
    "# If we observe a large p-value, for example larger than 0.05 or 0.1, \n",
    "# then we cannot reject the null hypothesis of identical average scores. \n",
    "# If the p-value is smaller than the threshold, e.g. 1%, 5% or 10%, \n",
    "# then we reject the null hypothesis of equal averages.\n",
    "\n",
    "# Return:: T-Values & p-value\n",
    "two_sample_equal_var = stats.ttest_ind(male_df.temperature, female_df.temperature)\n",
    "two_sample_notequal_var = stats.ttest_ind(male_df.temperature, female_df.temperature, equal_var = False)\n",
    "\n",
    "print('Two Sample Test when Variance Equal:: ',two_sample_equal_var)\n",
    "print('Two Sample Test when Variance Not Equal:: ',two_sample_notequal_var)\n",
    "\n",
    "print('Is the p-value less than the 5% significance? ',two_sample_notequal_var[1] < sig)"
   ]
  },
  {
   "cell_type": "markdown",
   "metadata": {},
   "source": [
    "<p>Based on the p-value being less than 5%, we can reject the null hypothesis and conclude that there is a difference between Male and Female temps.</p>"
   ]
  },
  {
   "cell_type": "code",
   "execution_count": null,
   "metadata": {},
   "outputs": [],
   "source": []
  },
  {
   "cell_type": "code",
   "execution_count": 3,
   "metadata": {
    "collapsed": true
   },
   "outputs": [],
   "source": []
  }
 ],
 "metadata": {
  "kernelspec": {
   "display_name": "Python 3",
   "language": "python",
   "name": "python3"
  },
  "language_info": {
   "codemirror_mode": {
    "name": "ipython",
    "version": 3
   },
   "file_extension": ".py",
   "mimetype": "text/x-python",
   "name": "python",
   "nbconvert_exporter": "python",
   "pygments_lexer": "ipython3",
   "version": "3.6.5"
  }
 },
 "nbformat": 4,
 "nbformat_minor": 1
}
